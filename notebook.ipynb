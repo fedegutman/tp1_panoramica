{
 "cells": [
  {
   "cell_type": "markdown",
   "id": "5513bfae",
   "metadata": {},
   "source": [
    "____\n",
    "__Universidad de San Andrés__<br/>\n",
    "__Visión Artificial__<br/>\n",
    "__Trabajo Práctico 1: Panorámica__<br/>\n",
    "__Martin Bianchi y Federico Gutman__\n",
    "____"
   ]
  },
  {
   "cell_type": "markdown",
   "id": "a9d8a6de",
   "metadata": {},
   "source": [
    "### Importamos las librerías necesarias"
   ]
  },
  {
   "cell_type": "code",
   "execution_count": null,
   "id": "e717ab83",
   "metadata": {},
   "outputs": [],
   "source": [
    "import cv2\n",
    "import numpy as np\n",
    "import matplotlib.pyplot as plt"
   ]
  },
  {
   "cell_type": "markdown",
   "id": "87712c1c",
   "metadata": {},
   "source": [
    "### Visualizamos las imágenes"
   ]
  },
  {
   "cell_type": "code",
   "execution_count": null,
   "id": "141ccd80",
   "metadata": {},
   "outputs": [],
   "source": [
    "# cargo las imágenes (open cv las carga en bgr)\n",
    "udesa_left = cv2.imread(\"img/udesa_0.jpg\", flags=cv2.IMREAD_COLOR)\n",
    "udesa_center = cv2.imread(\"img/udesa_1.jpg\", flags=cv2.IMREAD_COLOR)\n",
    "udesa_right = cv2.imread(\"img/udesa_2.jpg\", flags=cv2.IMREAD_COLOR)\n",
    "\n",
    "# convierto a rgb\n",
    "udesa_left = cv2.cvtColor(udesa_left, cv2.COLOR_BGR2RGB)\n",
    "udesa_center = cv2.cvtColor(udesa_center, cv2.COLOR_BGR2RGB)\n",
    "udesa_right = cv2.cvtColor(udesa_right, cv2.COLOR_BGR2RGB)\n",
    "\n",
    "# muestro las imágenes\n",
    "fig, ax = plt.subplots(1, 3, figsize=(15, 10))\n",
    "ax[0].imshow(udesa_left)\n",
    "ax[0].axis('off')\n",
    "\n",
    "ax[1].imshow(udesa_center)\n",
    "ax[1].axis('off')\n",
    "\n",
    "ax[2].imshow(udesa_right)\n",
    "ax[2].axis('off')\n",
    "plt.show()"
   ]
  },
  {
   "cell_type": "markdown",
   "id": "cb4068ed",
   "metadata": {},
   "source": [
    "### Seguimos el pipeline propuesto"
   ]
  },
  {
   "cell_type": "markdown",
   "id": "8444b6ef",
   "metadata": {},
   "source": [
    "#### Paso 1: Detección de características visuales"
   ]
  },
  {
   "cell_type": "code",
   "execution_count": null,
   "id": "6b569b86",
   "metadata": {},
   "outputs": [],
   "source": [
    "# se pueden usar: sift, surf, akaze, orb\n",
    "# pruebo con sift\n",
    "\n",
    "sift = cv2.SIFT_create()\n",
    "\n",
    "# detecto keypoints y computo descriptores\n",
    "keypoints_left, descriptors_left = sift.detectAndCompute(udesa_left, None)\n",
    "keypoints_center, descriptors_center = sift.detectAndCompute(udesa_center, None)\n",
    "keypoints_right, descriptors_right = sift.detectAndCompute(udesa_right, None)\n",
    "\n",
    "# dibujo keypoints\n",
    "img_keypoints_left = cv2.drawKeypoints(udesa_left, keypoints_left, None, color=(0,255,0), flags=cv2.DRAW_MATCHES_FLAGS_DRAW_RICH_KEYPOINTS)\n",
    "img_keypoints_center = cv2.drawKeypoints(udesa_center, keypoints_center, None, color=(0,255,0), flags=cv2.DRAW_MATCHES_FLAGS_DRAW_RICH_KEYPOINTS)\n",
    "img_keypoints_right = cv2.drawKeypoints(udesa_right, keypoints_right, None, color=(0,255,0), flags=cv2.DRAW_MATCHES_FLAGS_DRAW_RICH_KEYPOINTS)   \n",
    "\n",
    "# muestro las imágenes con keypoints\n",
    "fig, ax = plt.subplots(1, 3, figsize=(15, 10))\n",
    "ax[0].imshow(img_keypoints_left)\n",
    "ax[0].axis('off')\n",
    "\n",
    "ax[1].imshow(img_keypoints_center)\n",
    "ax[1].axis('off')\n",
    "\n",
    "ax[2].imshow(img_keypoints_right)\n",
    "ax[2].axis('off')\n",
    "plt.show()\n"
   ]
  },
  {
   "cell_type": "markdown",
   "id": "484a54ab",
   "metadata": {},
   "source": [
    "#### Paso 2: Supresión de No Máxima Adaptativa"
   ]
  },
  {
   "cell_type": "code",
   "execution_count": null,
   "id": "0bf5bb0c",
   "metadata": {},
   "outputs": [],
   "source": [
    "def anms(keypoints, num_points):\n",
    "    if len(keypoints) <= num_points:\n",
    "        return keypoints\n",
    "\n",
    "    # Ordenar keypoints por su respuesta (fuerza del corner)\n",
    "    keypoints = sorted(keypoints, key=lambda x: x.response, reverse=True)\n",
    "\n",
    "    # Inicializar radios de supresión\n",
    "    radii = [float('inf')] * len(keypoints)\n",
    "\n",
    "    # Calcular radios de supresión\n",
    "    for i in range(len(keypoints)):\n",
    "        for j in range(i):\n",
    "            if keypoints[j].response > keypoints[i].response:\n",
    "                dist = np.linalg.norm(np.array(keypoints[i].pt) - np.array(keypoints[j].pt))\n",
    "                if dist < radii[i]:\n",
    "                    radii[i] = dist\n",
    "\n",
    "    # Asociar radios a keypoints y ordenar por radio\n",
    "    keypoints_with_radii = list(zip(keypoints, radii))\n",
    "    keypoints_with_radii.sort(key=lambda x: x[1], reverse=True)\n",
    "\n",
    "    # Seleccionar los mejores keypoints basados en los radios\n",
    "    selected_keypoints = [kp for kp, r in keypoints_with_radii[:num_points]]\n",
    "\n",
    "    return selected_keypoints   "
   ]
  },
  {
   "cell_type": "markdown",
   "id": "ad2be123",
   "metadata": {},
   "source": [
    "#### Paso 3: Descripción de las características"
   ]
  }
 ],
 "metadata": {
  "kernelspec": {
   "display_name": "Python 3",
   "language": "python",
   "name": "python3"
  },
  "language_info": {
   "codemirror_mode": {
    "name": "ipython",
    "version": 3
   },
   "file_extension": ".py",
   "mimetype": "text/x-python",
   "name": "python",
   "nbconvert_exporter": "python",
   "pygments_lexer": "ipython3",
   "version": "3.12.6"
  }
 },
 "nbformat": 4,
 "nbformat_minor": 5
}
